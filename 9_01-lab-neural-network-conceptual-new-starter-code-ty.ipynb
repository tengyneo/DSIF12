{
 "cells": [
  {
   "cell_type": "markdown",
   "metadata": {},
   "source": [
    "<img src=\"http://imgur.com/1ZcRyrc.png\" style=\"float: left; margin: 20px; height: 55px\">\n",
    "\n",
    "# Conceptual Neural Networks Lab\n",
    "\n",
    "---\n",
    "\n",
    "\n",
    "In class, you've seen how to build a neural network in Keras. This lab is intended to help you understand exactly how a neural network is built and understand the math behind it. We will walk through the process of building a *very* simple neural network by hand.\n",
    "\n",
    "Let's start at the beginning. In general, a forward pass through a neural network works like this:\n",
    "1. Take our inputs and multiply each input by a weight.\n",
    "2. Add all of the results from step 1 together.\n",
    "3. Add a bias to the result from step 2.\n",
    "4. Pass the value from step 3 through an activation function.\n",
    "5. This is now passed to the next layer.\n",
    "\n",
    "![](./images/perceptron.jpeg)\n",
    "\n",
    "([*image source*](https://www.kdnuggets.com/2016/10/beginners-guide-neural-networks-python-scikit-learn.html))\n",
    "\n",
    "Let's code a simple one-layer neural network together!\n",
    "\n",
    "**The ONLY Python libraries you will need/can use in this lab are numpy and matplotlib!**"
   ]
  },
  {
   "cell_type": "code",
   "execution_count": 1,
   "metadata": {},
   "outputs": [],
   "source": [
    "# import numpy and matplotlib - this is all you will need for this lab!\n",
    "import numpy as np\n",
    "import matplotlib.pyplot as plt\n",
    "\n",
    "# Set a random seed\n",
    "np.random.seed(123)"
   ]
  },
  {
   "cell_type": "markdown",
   "metadata": {},
   "source": [
    "**Problem 1:** Let's write a function called `update` that takes an array of our inputs, multiplies these by their weights, and sums them together with a bias. We will start with random initialization of our weights and bias. For simplicity, the network we will build will just have 2 inputs.\n",
    "\n",
    "For example,\n",
    "```python\n",
    "inputs = np.array([12, 4])\n",
    "weights = np.array([1, 2])\n",
    "bias = 1\n",
    "\n",
    "update(inputs, weights, bias)\n",
    "```\n",
    "Should return:\n",
    "```python\n",
    "21\n",
    "```\n",
    "\n",
    "Since: $ (12*1) + (4*2) + 1 = 21 $\n"
   ]
  },
  {
   "cell_type": "code",
   "execution_count": 2,
   "metadata": {},
   "outputs": [],
   "source": [
    "# Inputs and initial weights/bias:\n",
    "\n",
    "inputs = np.array([12, 4])\n",
    "weights = np.array([1, 2])\n",
    "bias = 1"
   ]
  },
  {
   "cell_type": "code",
   "execution_count": 3,
   "metadata": {},
   "outputs": [],
   "source": [
    "# Answer:\n",
    "def update(inputs, weights, bias):\n",
    "    return sum(inputs*weights) + bias"
   ]
  },
  {
   "cell_type": "code",
   "execution_count": 4,
   "metadata": {},
   "outputs": [
    {
     "data": {
      "text/plain": [
       "21"
      ]
     },
     "execution_count": 4,
     "metadata": {},
     "output_type": "execute_result"
    }
   ],
   "source": [
    "update(inputs, weights, bias)"
   ]
  },
  {
   "cell_type": "markdown",
   "metadata": {},
   "source": [
    "**Problem 2:** Now, let's code our activation function. For best performance, we often use ReLU as our activation function in hidden layers. Graphically, this looks like:\n",
    "\n",
    "![](./images/relu.png)\n",
    "\n",
    "([*image source*](https://medium.com/@danqing/a-practical-guide-to-relu-b83ca804f1f7))\n",
    "\n",
    "And can be written as:\n",
    "\n",
    "$$\n",
    "f(x) = \\left\\{\\begin{matrix}\n",
    "0 \\text{  for  } x<0\\\\\n",
    "x \\text{  for  } x\\geq 0\n",
    "\\end{matrix}\\right.\n",
    "$$\n",
    "\n",
    "Write a function called `relu` that takes in a value and returns the value after it has been passed through the ReLU function.\n",
    "\n",
    "For example,\n",
    "```python\n",
    "relu(-3)\n",
    "```\n",
    "Should return:\n",
    "```python\n",
    "0\n",
    "```\n",
    "Since $-3 < 0$, and\n",
    "```python\n",
    "relu(3)\n",
    "```\n",
    "Should return:\n",
    "```python\n",
    "3\n",
    "```\n",
    "Since $3 \\geq 0$."
   ]
  },
  {
   "cell_type": "code",
   "execution_count": 5,
   "metadata": {},
   "outputs": [],
   "source": [
    "# Answer:\n",
    "def relu(x):\n",
    "    return max(0.0, x)"
   ]
  },
  {
   "cell_type": "code",
   "execution_count": 6,
   "metadata": {},
   "outputs": [
    {
     "data": {
      "text/plain": [
       "0.0"
      ]
     },
     "execution_count": 6,
     "metadata": {},
     "output_type": "execute_result"
    }
   ],
   "source": [
    "relu(-3)"
   ]
  },
  {
   "cell_type": "code",
   "execution_count": 7,
   "metadata": {},
   "outputs": [
    {
     "data": {
      "text/plain": [
       "3"
      ]
     },
     "execution_count": 7,
     "metadata": {},
     "output_type": "execute_result"
    }
   ],
   "source": [
    "relu(3)"
   ]
  },
  {
   "cell_type": "markdown",
   "metadata": {},
   "source": [
    "**Problem 3:** Now, let's code our activation function for our output layer! Let's assume we are building a neural network for a regression problem. What activation function should we use?"
   ]
  },
  {
   "cell_type": "markdown",
   "metadata": {},
   "source": [
    "> Answer: "
   ]
  },
  {
   "cell_type": "markdown",
   "metadata": {},
   "source": [
    "**Problem 4:** Write a function called `output_activation` that takes in a value and passes it through the activation function you decided on in problem 3."
   ]
  },
  {
   "cell_type": "code",
   "execution_count": 8,
   "metadata": {},
   "outputs": [],
   "source": [
    "# Answer:\n",
    "def output_activation(val):\n",
    "    return val"
   ]
  },
  {
   "cell_type": "markdown",
   "metadata": {},
   "source": [
    "**Problem 5**: Put it together! We will use the functions we wrote above to build a simple neural network to predict the price of a home given home size and quality on a scale of 1-5. For simplicity, we will build a network with one hidden layer with only one node.\n",
    "\n",
    "Our general network architecture will look like this:\n",
    "\n",
    "![](./images/network_drawing.png)\n",
    "\n",
    "The simple data we will work with is given here:\n",
    "\n",
    "| square_feet | quality | price |\n",
    "| --- | --- | --- |\n",
    "| 1750 | 3 | \\$250,000 |\n",
    "| 2500 | 4 | \\$600,000 |\n",
    "| 4320 | 5 | \\$895,000 |\n",
    "| 1300 | 1 | \\$195,000 |\n",
    "\n",
    "We will normalize our data to ensure all values are between 0 and 1. This will help our neural network converge and ensure that we do not lose any weights during the fitting process (since any negative values will be set to 0 when they are passed through the ReLU function):"
   ]
  },
  {
   "cell_type": "code",
   "execution_count": 9,
   "metadata": {},
   "outputs": [],
   "source": [
    "# Put data from above into a numpy array for modeling\n",
    "\n",
    "housing_data = np.array([[1750, 3, 250_000],\n",
    "                        [2500, 4, 600_000],\n",
    "                        [4320, 5, 895_000],\n",
    "                        [1300, 1, 195_000]])"
   ]
  },
  {
   "cell_type": "code",
   "execution_count": 10,
   "metadata": {},
   "outputs": [],
   "source": [
    "# Split housing data into X & y\n",
    "X = housing_data[:,[0,1]]\n",
    "y = housing_data[:,2]\n",
    "\n",
    "# Normalize each column by scaling all values into the range [0, 1]\n",
    "#   - Avoids negative values for ReLU, which would prevent weight updates\n",
    "#   - ptp: peak-to-peak, i.e. the range of each column (max - min)\n",
    "X_scaled = (X - X.min(axis=0)) / X.ptp(axis=0)\n",
    "\n",
    "# Normalize y identically\n",
    "#    - Ensures the weights do not have to be enormously adjusted with a huge learning rate\n",
    "y_scaled = (y - y.min()) / y.ptp()"
   ]
  },
  {
   "cell_type": "markdown",
   "metadata": {},
   "source": [
    "For simplicity, we will only use **one observation** of our data to start!\n",
    "\n",
    "| square_feet | quality | price |\n",
    "| --- | --- | --- |\n",
    "| 1750 | 3 | \\$250,000 |"
   ]
  },
  {
   "cell_type": "code",
   "execution_count": 11,
   "metadata": {},
   "outputs": [],
   "source": [
    "# Save the first row of the dataset for simplicity\n",
    "\n",
    "X_scaled_simple = X_scaled[0,:]\n",
    "y_simple = y_scaled[0]"
   ]
  },
  {
   "cell_type": "markdown",
   "metadata": {},
   "source": [
    "Now we will run this through our network!\n",
    "\n",
    "To do this, pass the `X_scaled_simple` data, `w1` and `w1` from the given weights vector, and `b1` from the given bias vector into your `update` function. Save the returned array as `sum1`.\n",
    "\n",
    "We will use randomly generated weights and bias to start."
   ]
  },
  {
   "cell_type": "code",
   "execution_count": 12,
   "metadata": {},
   "outputs": [],
   "source": [
    "# Initialize random weights and biases\n",
    "# We need 3 weights and 2 biases\n",
    "# If you are unsure why this is, go back to\n",
    "# the picture of the network architecture above!\n",
    "\n",
    "# Weights & bias vectors (positive to avoid reLU zeroing out)\n",
    "weights = np.abs(np.random.normal(size=3))  # [w1, w2, w3]\n",
    "biases = np.abs(np.random.normal(size=2))   # [b1, b2]"
   ]
  },
  {
   "cell_type": "code",
   "execution_count": 13,
   "metadata": {},
   "outputs": [
    {
     "data": {
      "text/plain": [
       "2.166733586708313"
      ]
     },
     "execution_count": 13,
     "metadata": {},
     "output_type": "execute_result"
    }
   ],
   "source": [
    "# Get sum1:\n",
    "# Answer:\n",
    "sum1 = update(X_scaled_simple, weights[[0, 1]], biases[0])\n",
    "sum1"
   ]
  },
  {
   "cell_type": "markdown",
   "metadata": {},
   "source": [
    "**Problem 6:** Apply your hidden layer activation function `relu` to your `sum1`. Save the result of this as `out1`."
   ]
  },
  {
   "cell_type": "code",
   "execution_count": 14,
   "metadata": {},
   "outputs": [
    {
     "data": {
      "text/plain": [
       "2.166733586708313"
      ]
     },
     "execution_count": 14,
     "metadata": {},
     "output_type": "execute_result"
    }
   ],
   "source": [
    "# Get out1:\n",
    "# Answer:\n",
    "out1 = relu(sum1)\n",
    "out1"
   ]
  },
  {
   "cell_type": "markdown",
   "metadata": {},
   "source": [
    "**Problem 7**: We will now pass the output from the hidden layer to our output layer. To do this:\n",
    "1. Pass the `out1` result, `w3` from the given weights vector, and `b2` from the given bias vector through your `update` function. Save the result as `sum2`.\n",
    "2. Apply your output layer activation function `output_activation` to your `sum2`. Save the result of this as `out2`. This is our prediction of the price of that first home!\n",
    "\n",
    "*Hint: Your `update` function takes in an array instead of just a single number! You may have to convert `out1` to an array before running it through your `update` function!*"
   ]
  },
  {
   "cell_type": "code",
   "execution_count": 15,
   "metadata": {},
   "outputs": [
    {
     "data": {
      "text/plain": [
       "1.1917392680140604"
      ]
     },
     "execution_count": 15,
     "metadata": {},
     "output_type": "execute_result"
    }
   ],
   "source": [
    "# Get sum2 and out2:\n",
    "# Answer:\n",
    "sum2 = update(np.array([out1]), weights[[2]], biases[1])\n",
    "out2 = output_activation(sum2)\n",
    "out2"
   ]
  },
  {
   "cell_type": "markdown",
   "metadata": {},
   "source": [
    "**Problem 8**: Put it together! Write a function called `forward` that goes through a complete forward pass (combines all of your steps from problems 5-7). This function should take in a row of the data, weights, and biases and:\n",
    "1. Calculates `sum1`: the result of passing the row of data, the weights, and the bias through your `update` function.\n",
    "2. Calculates `out1`: the result of applying your hidden layer activation function `relu` to your `sum1` result from step 1.\n",
    "3. Calculates `sum2`: the result of passing `out1`, the weights, and the bias through your `update` function.\n",
    "4. Calculates `out2`: the result of applying your output layer activation function `output_activation` to your `sum2` result from step 3.\n",
    "5. Returns `sum1`, `out1`, `sum2`, and `out2`!\n",
    "\n",
    "You have now written a function that completes one forward pass through our neural network! To check your work, you should get the same results from problems 5-7 here (assuming you are using the same randomly generated weights and biases vectors)!"
   ]
  },
  {
   "cell_type": "code",
   "execution_count": 16,
   "metadata": {},
   "outputs": [],
   "source": [
    "# Answer:\n",
    "def forward(row, weights, biases):\n",
    "    \"\"\" \n",
    "    Forward pass of the network.\n",
    "    Returns the sum and output of layer 1 and layer 2.\n",
    "    \"\"\"\n",
    "    # hidden layer\n",
    "    sum1 = update(row, weights[[0, 1]], biases[0])\n",
    "    # hidden layer activation\n",
    "    out1 = relu(sum1)\n",
    "    \n",
    "    # output layer\n",
    "    sum2 = update(np.array([out1]), weights[[2]], biases[1])\n",
    "    # output layer activation\n",
    "    out2 = output_activation(sum2)\n",
    "    \n",
    "    return sum1, out1, sum2, out2"
   ]
  },
  {
   "cell_type": "code",
   "execution_count": 17,
   "metadata": {},
   "outputs": [
    {
     "data": {
      "text/plain": [
       "(2.166733586708313, 2.166733586708313, 1.1917392680140604, 1.1917392680140604)"
      ]
     },
     "execution_count": 17,
     "metadata": {},
     "output_type": "execute_result"
    }
   ],
   "source": [
    "forward(X_scaled_simple, weights, biases)"
   ]
  },
  {
   "cell_type": "markdown",
   "metadata": {},
   "source": [
    "**Problem 9:** Now, we need to quantify our loss. Since this is a regression problem, we will use the mean squared error (MSE) loss, which can be written as:\n",
    "\n",
    "$$\n",
    "MSE = \\frac{1}{n}\\sum_{i=1}^{n}(y_{true}-y_{pred})^2 \n",
    "$$\n",
    "\n",
    "Write a function called `mse` that takes in two arrays, `y_true` and `y_pred` and returns the mean squared error."
   ]
  },
  {
   "cell_type": "code",
   "execution_count": 18,
   "metadata": {},
   "outputs": [],
   "source": [
    "# Loss function:\n",
    "# Answer:\n",
    "def mse(y_true, y_pred):\n",
    "    return np.mean((y_true - y_pred)**2)"
   ]
  },
  {
   "cell_type": "markdown",
   "metadata": {},
   "source": [
    "Now, find the mean squared error between your `out2` (y_pred) and `y_simple` (y_true). Since your function took in arrays and we are just working with one example for now, we will convert these values to arrays of length 1."
   ]
  },
  {
   "cell_type": "code",
   "execution_count": 19,
   "metadata": {},
   "outputs": [],
   "source": [
    "# Convert y_simple and out2 to arrays to use in function:\n",
    "\n",
    "y_simple = np.array([y_simple])\n",
    "output = np.array([out2])"
   ]
  },
  {
   "cell_type": "code",
   "execution_count": 20,
   "metadata": {},
   "outputs": [
    {
     "data": {
      "text/plain": [
       "1.2391426387693771"
      ]
     },
     "execution_count": 20,
     "metadata": {},
     "output_type": "execute_result"
    }
   ],
   "source": [
    "mse(y_simple, output)"
   ]
  },
  {
   "cell_type": "markdown",
   "metadata": {},
   "source": [
    "How is your model doing? Probably very bad! This is where the magic happens: backpropagation. Backpropagation is the process of using gradient descent to update our weights and biases in order to try to minimize the loss function (mean squared error in this case). Check out the gradient descent lesson if you need a reminder on how this works.\n",
    "\n",
    "We will be using the terms $w_1$, $h_1$, $w_3$, etc. for this next part. Here is a reminder of our network that labels all of the weights with these terms. As a simple example, we will work our way backwards through one portion of the network to update $w_1$ (through $o_1$ (predicted price), $w_3$, and $h_1$).\n",
    "\n",
    "![](./images/network_drawing.png)\n",
    "\n",
    "We can define our new weights (and biases) using gradient descent. Again, for simplicity we will just work through updating $w_1$:\n",
    "\n",
    "$$\n",
    "w_1 \\leftarrow w_1 - \\lambda \\frac{\\partial L}{\\partial w_1}\n",
    "$$\n",
    "\n",
    "Since we work backwards through our network with multiple variables, we calculate the derivative of the loss with respect to $w_1$ ($ \\frac{\\partial L}{\\partial w_1} $) using [partial derivatives](https://www.khanacademy.org/math/multivariable-calculus/multivariable-derivatives/partial-derivative-and-gradient-articles/a/introduction-to-partial-derivatives):\n",
    "\n",
    "$$\n",
    "\\frac{\\partial L}{\\partial w_1} = \\frac{\\partial L}{\\partial y_{pred}} * \\frac{\\partial y_{pred}}{\\partial h_1} * \\frac{\\partial h_1}{\\partial w_1}\n",
    "$$\n",
    "\n",
    "Where $L$ is the loss, $w_1$ is the first weight, $h_1$ is the output from the first hidden layer, and $y_{pred}$ is the predicted value of y.\n",
    "\n",
    "For those of you familiar with calculus, feel free to try to compute these partial derivatives on your own! For those of you not as familiar, I will give you each of these for our scenario. Remember, we are using MSE as our loss function and ReLU as our hidden layer activation function:\n",
    "\n",
    "$$\n",
    "\\frac{\\partial L}{\\partial y_{pred}} = -2(y_{true}-y_{pred})\n",
    "$$\n",
    "\n",
    "$$\n",
    "\\frac{\\partial y_{pred}}{\\partial h_1} = w_3*f'(w_3h_1+b_2)\n",
    "$$\n",
    "\n",
    "$$\n",
    "\\frac{\\partial h_1}{\\partial w_1} = x_1*f'(w_1x_1+w_2x_2+b_1)\n",
    "$$\n",
    "\n",
    "Where $f'$ is the derivative of the ReLU function:\n",
    "\n",
    "$$\n",
    "f'(x) = \\left\\{\\begin{matrix}\n",
    "0 \\text{  for  } x<0\\\\\n",
    "1 \\text{  for  } x\\geq 0\n",
    "\\end{matrix}\\right.\n",
    "$$\n",
    "\n",
    "These last two work because of the [chain rule](https://www.khanacademy.org/math/ap-calculus-ab/ab-differentiation-2-new/ab-3-1a/a/chain-rule-review).\n",
    "\n",
    "We now have all the pieces to update our weights and biases! We are technically using stochastic gradient descent to update our weights and biases here, since we only operate on one sample at a time. The general process for backpropagation will be:\n",
    "1. Select one sample from our dataset.\n",
    "2. Calculate the partial derivatives.\n",
    "3. Use the equation from gradient descent to update each weight and bias ($w_1 \\leftarrow w_1 - \\lambda \\frac{\\partial L}{\\partial w_1}$).\n",
    "4. Repeat for each sample."
   ]
  },
  {
   "cell_type": "markdown",
   "metadata": {},
   "source": [
    "**Problem 10:** Write a function called `relu_deriv` that is the derivative of the ReLU function:\n",
    "\n",
    "$$\n",
    "f'(x) = \\left\\{\\begin{matrix}\n",
    "0 \\text{  for  } x<0\\\\\n",
    "1 \\text{  for  } x\\geq 0\n",
    "\\end{matrix}\\right.\n",
    "$$\n",
    "\n",
    "This function should take in an input and return the derivative of the ReLU function at that input."
   ]
  },
  {
   "cell_type": "code",
   "execution_count": 21,
   "metadata": {},
   "outputs": [],
   "source": [
    "# Derivative of ReLU:\n",
    "# Answer:\n",
    "def relu_deriv(val):\n",
    "    if val < 0:\n",
    "        return 0\n",
    "    else:\n",
    "        return 1"
   ]
  },
  {
   "cell_type": "markdown",
   "metadata": {},
   "source": [
    "### Putting it all together\n",
    "\n",
    "We are now ready to create a neural network from scratch! \n",
    "\n",
    "Again, for simplicity all we will do right now is write code that updates $w_1$ to start. (In order to actually minimize our loss function, we will need to expand this to update $w_2$, $w_3$, $b_1$, and $b_2$ as well. We will do this later on.)\n",
    "\n",
    "![](./images/network_drawing.png)\n",
    "\n",
    "*Note*: this is definitely not going to find an optimal model since this is an extremely simplified example. Hopefully you have developed more of an appreciation for Keras!\n",
    "\n",
    "**Problem 11:** Write a function called `update_weights` that takes in your X data, y data, weights, biases, and a learning rate ($\\lambda$) in order to update the weights using gradient descent. This function should:\n",
    "1. Go through one forward pass of your network to generate a prediction (use your `forward` function here) for each row in your dataset.\n",
    "2. Goes through the process of backpropagation to find $\\frac{\\partial L}{\\partial w_1}$: $\\frac{\\partial L}{\\partial w_1} = \\frac{\\partial L}{\\partial y_{pred}} * \\frac{\\partial y_{pred}}{\\partial h_1} * \\frac{\\partial h_1}{\\partial w_1}$ (this code is given for you).\n",
    "3. Updates $w_1$ using gradient descent ($w_1 \\leftarrow w_1 - \\lambda \\frac{\\partial L}{\\partial w_1}$).\n",
    "4. Calculates the loss.\n",
    "5. Returns the loss.\n",
    "\n",
    "Comments and starter code is given to help you work through this problem!"
   ]
  },
  {
   "cell_type": "code",
   "execution_count": 22,
   "metadata": {},
   "outputs": [],
   "source": [
    "def update_weights(X, y_true, weights, biases, learning_rate):\n",
    "    \"\"\" Updates the weight values. Returns the resulting loss. \"\"\"\n",
    "    \n",
    "    # Initialize prediction array with 0's\n",
    "    y_preds = np.zeros_like(y_true)\n",
    "    \n",
    "    # loop through each row in the dataset\n",
    "    for i, (row,y_actual) in enumerate(zip(X, y_true)):\n",
    "        # TO DO: get values for sum1, out1, sum2, and out2 using your forward function\n",
    "        sum1,out1,sum2,out2 = forward(row, weights, biases)\n",
    "        \n",
    "        # TO DO: save out2 as the corresponding position in y_pred\n",
    "        y_preds[i] = out2\n",
    "\n",
    "        # Backpropagation\n",
    "        dl_dypred = 2 * (out2 - y_actual)\n",
    "        dypred_dh1 = weights[2] * relu_deriv(sum2)\n",
    "        dh1_dw1 = row[0] * relu_deriv(sum1)\n",
    "\n",
    "        # TO DO: use gradient descent to update w1\n",
    "        weights[0] -= learning_rate * dl_dypred * dypred_dh1 * dh1_dw1\n",
    "    \n",
    "    # TO DO: calculate loss\n",
    "    loss = mse(y_true, y_preds)\n",
    "    \n",
    "    # TO DO: return the loss\n",
    "    return loss"
   ]
  },
  {
   "cell_type": "code",
   "execution_count": 23,
   "metadata": {},
   "outputs": [
    {
     "data": {
      "text/plain": [
       "0.7943925302022752"
      ]
     },
     "execution_count": 23,
     "metadata": {},
     "output_type": "execute_result"
    }
   ],
   "source": [
    "update_weights(X_scaled, y_scaled, weights, biases, learning_rate = 0.02)"
   ]
  },
  {
   "cell_type": "markdown",
   "metadata": {},
   "source": [
    "Congrats! You've updated $w_1$ using gradient descent and returned your loss! Now, lets put this all together to update $w_1$ in our network to actually train our model. Since this is challenging, this function is given for you. As long as you have successfully completed the problems up to this point, your neural network should work and we can actually train our model!\n",
    "\n",
    "The first function is called `plot_predictions` and allows us to visualize how our model is doing by plotting the loss via gradient descent and the difference between the true square footage and our model's predictions.\n",
    "\n",
    "The second function is called `train` and trains our model by taking in your X data, y data, a learning rate, and a certain number of epochs. For each epoch, the network:\n",
    "1. Goes through a forward pass using your `forward` function.\n",
    "2. Goes through a backward pass to calculate the loss using your `update_weights` function.\n",
    "3. Uses the `plot_predictions` function to visualize how our model is doing!\n",
    "4. Repeats steps 1-3 for the given number of epochs."
   ]
  },
  {
   "cell_type": "code",
   "execution_count": 24,
   "metadata": {},
   "outputs": [],
   "source": [
    "def plot_predictions(X, y_true, weights, biases):\n",
    "    # Loss scatter plot titles\n",
    "    plt.title('Loss via Gradient Descent')\n",
    "    plt.xlabel('Epoch')\n",
    "    plt.ylabel('Loss')\n",
    "    \n",
    "    # Side-by-side prediction plots\n",
    "    fig, ax = plt.subplots(1, 2, sharey=True)\n",
    "    fig.suptitle('Actual (blue) vs. predicted (orange)')\n",
    "    ax[0].set_ylabel('price (normalized)')\n",
    "    ax[0].set_xlabel('square feet (normalized)')\n",
    "    ax[1].set_xlabel('quality (normalized)')\n",
    "    \n",
    "    # Display each predicted value\n",
    "    for i, (row, y_actual) in enumerate(zip(X, y_true)):\n",
    "        *_, y_pred = forward(row, weights, biases)\n",
    "        ax[0].scatter(row[0], y_pred, c='orange')\n",
    "        ax[0].scatter(row[0], y_actual, c='b')\n",
    "        ax[1].scatter(row[1], y_pred, c='orange')\n",
    "        ax[1].scatter(row[1], y_actual, c='b')"
   ]
  },
  {
   "cell_type": "code",
   "execution_count": 25,
   "metadata": {},
   "outputs": [],
   "source": [
    "# create code for training\n",
    "def train(X, y_true, learning_rate, epochs):\n",
    "    \"\"\" Initialize and train netork for given epochs.\"\"\"\n",
    "    \n",
    "    # Initialize random weights and biases:\n",
    "    weights = np.abs(np.random.normal(size=3))  # [w1, w2, w3]\n",
    "    biases = np.abs(np.random.normal(size=2))   # [b1, b2]\n",
    "    \n",
    "    for epoch in range(epochs):\n",
    "        # Forward pass + Backpropagation + Gradient Descent\n",
    "        loss = update_weights(X, y_true, weights, biases, learning_rate)\n",
    "      \n",
    "        #print(f'Loss at epoch {epoch}: {loss}')\n",
    "        plt.scatter(epoch, loss, c='b')\n",
    "    \n",
    "    print('Final loss:', loss)\n",
    "    plot_predictions(X, y_true, weights, biases)"
   ]
  },
  {
   "cell_type": "markdown",
   "metadata": {},
   "source": [
    "Now run the `train` function on the `X_scaled` and `y_scaled` data! Your loss should be decreasing each epoch, but this will be a sub-optimal model since we are only updating $w_1$ for now."
   ]
  },
  {
   "cell_type": "code",
   "execution_count": 26,
   "metadata": {
    "scrolled": true
   },
   "outputs": [
    {
     "name": "stdout",
     "output_type": "stream",
     "text": [
      "Final loss: 1.5049016854978166\n"
     ]
    },
    {
     "data": {
      "image/png": "[encoded data removed]",
      "text/plain": [
       "<Figure size 640x480 with 1 Axes>"
      ]
     },
     "metadata": {},
     "output_type": "display_data"
    },
    {
     "data": {
      "image/png": "[encoded data removed]",
      "text/plain": [
       "<Figure size 640x480 with 2 Axes>"
      ]
     },
     "metadata": {},
     "output_type": "display_data"
    }
   ],
   "source": [
    "train(X_scaled, y_scaled, 0.02, 150);"
   ]
  },
  {
   "cell_type": "markdown",
   "metadata": {},
   "source": [
    "Still not satisfied with the performance of your model? Well that's because we were only updating one of the weights! What happens when we update **all** of our weights and biases using this process? The code below will do that for us!"
   ]
  },
  {
   "cell_type": "code",
   "execution_count": 27,
   "metadata": {},
   "outputs": [],
   "source": [
    "# Update ALL weights and biases\n",
    "def update_weights(X, y_true, weights, biases, learning_rate):\n",
    "    \"\"\" Updates the weight values. Returns the resulting loss. \"\"\"\n",
    "    \n",
    "    # Initialize prediction array with 0's\n",
    "    y_preds = np.zeros_like(y_true)\n",
    "    \n",
    "    for i, (row,y_actual) in enumerate(zip(X, y_true)):\n",
    "        # Forward pass\n",
    "        sum1,out1, sum2,out2 = forward(row, weights, biases)\n",
    "        y_preds[i] = out2\n",
    "\n",
    "        # Backpropagation\n",
    "        dl_dypred = 2 * (out2 - y_actual)\n",
    "        dypred_dh1 = weights[2] * relu_deriv(sum2)\n",
    "\n",
    "        dh1_dw1 = row[0] * relu_deriv(sum1)\n",
    "        dh1_dw2 = row[1] * relu_deriv(sum1)\n",
    "        dh1_db1 = relu_deriv(sum1)      \n",
    "        \n",
    "        dypred_dw3 = out1 * relu_deriv(sum2)\n",
    "        dypred_db2 = relu_deriv(sum2)\n",
    "        \n",
    "        # Gradient descent - Update weights and biases\n",
    "        weights[0] -= learning_rate * dl_dypred * dypred_dh1 * dh1_dw1\n",
    "        weights[1] -= learning_rate * dl_dypred * dypred_dh1 * dh1_dw2\n",
    "        weights[2] -= learning_rate * dl_dypred * dypred_dw3\n",
    "\n",
    "        biases[0] -= learning_rate * dl_dypred * dypred_dh1 * dh1_db1\n",
    "        biases[1] -= learning_rate * dl_dypred * dypred_db2\n",
    "    \n",
    "    # Calculate loss\n",
    "    loss = mse(y_true, y_preds)\n",
    "    return loss"
   ]
  },
  {
   "cell_type": "code",
   "execution_count": 28,
   "metadata": {},
   "outputs": [
    {
     "name": "stdout",
     "output_type": "stream",
     "text": [
      "Final loss: 0.0080355091583485\n"
     ]
    },
    {
     "data": {
      "image/png": "[encoded data removed]",
      "text/plain": [
       "<Figure size 640x480 with 1 Axes>"
      ]
     },
     "metadata": {},
     "output_type": "display_data"
    },
    {
     "data": {
      "image/png": "[encoded data removed]",
      "text/plain": [
       "<Figure size 640x480 with 2 Axes>"
      ]
     },
     "metadata": {},
     "output_type": "display_data"
    }
   ],
   "source": [
    "train(X_scaled, y_scaled, 0.004, 400);"
   ]
  },
  {
   "cell_type": "markdown",
   "metadata": {},
   "source": [
    "That's it! You've created a *very* simple neural network using only numpy! Hopefully by now you have a better understanding of the math behind a neural network.\n",
    "\n",
    "*Credit: inspiration for this lab comes from [this blog post](https://victorzhou.com/blog/intro-to-neural-networks/).*"
   ]
  }
 ],
 "metadata": {
  "kernelspec": {
   "display_name": "Python 3 (ipykernel)",
   "language": "python",
   "name": "python3"
  },
  "language_info": {
   "codemirror_mode": {
    "name": "ipython",
    "version": 3
   },
   "file_extension": ".py",
   "mimetype": "text/x-python",
   "name": "python",
   "nbconvert_exporter": "python",
   "pygments_lexer": "ipython3",
   "version": "3.10.13"
  }
 },
 "nbformat": 4,
 "nbformat_minor": 4
}
